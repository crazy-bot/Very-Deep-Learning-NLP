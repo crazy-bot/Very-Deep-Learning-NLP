{
 "cells": [
  {
   "cell_type": "markdown",
   "metadata": {},
   "source": [
    "# Exercise 5 (NLP): Very Deep Learning\n",
    "\n",
    "This exercise includes the whole NLP pipeline that is needed to make an NLP task work in real life. \n",
    "\n",
    "Before starting, it is important to understand the need for RNNs and the lecture from Stanford is a must to start the task:\n",
    "\n",
    "https://www.youtube.com/watch?v=iX5V1WpxxkY\n",
    "\n",
    "Then let's do one of the most common task in the NLP domain: Sentiment Analysis "
   ]
  },
  {
   "cell_type": "code",
   "execution_count": 20,
   "metadata": {},
   "outputs": [],
   "source": [
    "import numpy as np\n",
    "\n",
    "# read data from text files\n",
    "with open('data/reviews.txt', 'r') as f:\n",
    "    reviews = f.readlines()\n",
    "with open('data/labels.txt', 'r') as f:\n",
    "    labels = f.readlines()"
   ]
  },
  {
   "cell_type": "code",
   "execution_count": 21,
   "metadata": {},
   "outputs": [
    {
     "name": "stdout",
     "output_type": "stream",
     "text": [
      "positive\n",
      "\t: bromwell high is a cartoon comedy . it ran at the same time as some other programs about school life...\n",
      "negative\n",
      "\t: story of a man who has unnatural feelings for a pig . starts out with a opening scene that is a terr...\n",
      "positive\n",
      "\t: homelessness  or houselessness as george carlin stated  has been an issue for years but never a plan...\n",
      "negative\n",
      "\t: airport    starts as a brand new luxury    plane is loaded up with valuable paintings  such belongin...\n",
      "positive\n",
      "\t: brilliant over  acting by lesley ann warren . best dramatic hobo lady i have ever seen  and love sce...\n"
     ]
    }
   ],
   "source": [
    "for i in range(5):\n",
    "    print(labels[i] + \"\\t: \" + reviews[i][:100] + \"...\")"
   ]
  },
  {
   "cell_type": "markdown",
   "metadata": {},
   "source": [
    "Now we can see there are lot of punctuation marks like fullstop(.), comma(,), new line (\\n) and so on and we need to remove it. \n",
    "\n",
    "Here is a list of all the punctuation marks that needs to be removed (!\"#$%&\\'()*+,-./:;<=>?@[\\\\]^_`{|}~)"
   ]
  },
  {
   "cell_type": "code",
   "execution_count": 11,
   "metadata": {
    "collapsed": true
   },
   "outputs": [],
   "source": [
    "from string import punctuation"
   ]
  },
  {
   "cell_type": "code",
   "execution_count": 12,
   "metadata": {},
   "outputs": [
    {
     "data": {
      "text/plain": [
       "'!\"#$%&\\'()*+,-./:;<=>?@[\\\\]^_`{|}~'"
      ]
     },
     "execution_count": 12,
     "metadata": {},
     "output_type": "execute_result"
    }
   ],
   "source": [
    "punctuation"
   ]
  },
  {
   "cell_type": "code",
   "execution_count": 22,
   "metadata": {},
   "outputs": [],
   "source": [
    "reviews = ''.join(reviews).lower()"
   ]
  },
  {
   "cell_type": "code",
   "execution_count": 27,
   "metadata": {},
   "outputs": [],
   "source": [
    "# complete the function to remove punctuations\n",
    "\n",
    "def text_without_punct(reviews):\n",
    "    pass\n",
    "\n",
    "no_punct_text = text_without_punct(reviews)"
   ]
  },
  {
   "cell_type": "code",
   "execution_count": null,
   "metadata": {
    "collapsed": true
   },
   "outputs": [],
   "source": [
    "# split the formatted no_punct_text into words\n",
    "def split_in_words(no_punct_text):\n",
    "    pass\n",
    "\n",
    "words = split_in_words(no_punct_text"
   ]
  },
  {
   "cell_type": "code",
   "execution_count": 28,
   "metadata": {},
   "outputs": [
    {
     "data": {
      "text/plain": [
       "['bromwell', 'high', 'is', 'a', 'cartoon', 'comedy', 'it', 'ran', 'at', 'the']"
      ]
     },
     "execution_count": 28,
     "metadata": {},
     "output_type": "execute_result"
    }
   ],
   "source": [
    "# once you are done print the ten words that should yield the following output\n",
    "words[:10]"
   ]
  },
  {
   "cell_type": "code",
   "execution_count": null,
   "metadata": {
    "collapsed": true
   },
   "outputs": [],
   "source": []
  }
 ],
 "metadata": {
  "kernelspec": {
   "display_name": "Python 3",
   "language": "python",
   "name": "python3"
  },
  "language_info": {
   "codemirror_mode": {
    "name": "ipython",
    "version": 3
   },
   "file_extension": ".py",
   "mimetype": "text/x-python",
   "name": "python",
   "nbconvert_exporter": "python",
   "pygments_lexer": "ipython3",
   "version": "3.6.2"
  }
 },
 "nbformat": 4,
 "nbformat_minor": 2
}
